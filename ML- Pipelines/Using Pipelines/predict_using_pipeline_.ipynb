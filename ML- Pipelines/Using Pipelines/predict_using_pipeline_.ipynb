{
  "nbformat": 4,
  "nbformat_minor": 0,
  "metadata": {
    "colab": {
      "provenance": []
    },
    "kernelspec": {
      "name": "python3",
      "display_name": "Python 3"
    },
    "language_info": {
      "name": "python"
    }
  },
  "cells": [
    {
      "cell_type": "code",
      "execution_count": 10,
      "metadata": {
        "id": "pVfFvXtkQQ_-"
      },
      "outputs": [],
      "source": [
        "\n",
        "import pickle\n",
        "import numpy as np\n",
        "import pandas as pd"
      ]
    },
    {
      "cell_type": "code",
      "source": [
        "pipe = pickle.load(open('pipe.pkl','rb'))"
      ],
      "metadata": {
        "id": "UY9pgKNXQWwO"
      },
      "execution_count": 6,
      "outputs": []
    },
    {
      "cell_type": "code",
      "source": [
        "#assuming user\n",
        "\n",
        "test_input2 = pd.DataFrame([{\n",
        "    'Pclass': 2,\n",
        "    'Sex': 'male',\n",
        "    'Age': 31.0,\n",
        "    'SibSp': 0,\n",
        "    'Parch': 0,\n",
        "    'Fare': 10.5,\n",
        "    'Embarked': 'S'\n",
        "}])\n",
        "\n",
        "pipe.predict(test_input2)\n"
      ],
      "metadata": {
        "colab": {
          "base_uri": "https://localhost:8080/"
        },
        "id": "44LpQjeDQZA_",
        "outputId": "d758a914-5ce9-434c-fe4d-eac142e10aee"
      },
      "execution_count": 11,
      "outputs": [
        {
          "output_type": "execute_result",
          "data": {
            "text/plain": [
              "array([0])"
            ]
          },
          "metadata": {},
          "execution_count": 11
        }
      ]
    },
    {
      "cell_type": "code",
      "source": [],
      "metadata": {
        "id": "BrLUYipsQonP"
      },
      "execution_count": 8,
      "outputs": []
    }
  ]
}