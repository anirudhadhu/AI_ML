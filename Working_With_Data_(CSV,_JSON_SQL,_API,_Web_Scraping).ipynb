{
  "cells": [
    {
      "cell_type": "markdown",
      "metadata": {
        "id": "NZ5Lh9PVBQ4c"
      },
      "source": [
        "**1. Working With CSV Files**"
      ]
    },
    {
      "cell_type": "code",
      "execution_count": null,
      "metadata": {
        "id": "SDM8SNUTB-aD"
      },
      "outputs": [],
      "source": [
        "df = pd.read.csv('file location') #This is used to load the data from local storagea also df means data frame\n",
        "df  #printing the data frame"
      ]
    },
    {
      "cell_type": "markdown",
      "metadata": {
        "id": "w0jBUNhLCgkb"
      },
      "source": [
        "* Opening a csv file from an URL"
      ]
    },
    {
      "cell_type": "code",
      "execution_count": null,
      "metadata": {
        "colab": {
          "base_uri": "https://localhost:8080/"
        },
        "id": "sntohd4bCWBr",
        "outputId": "843af0e7-f0c7-4a7e-aea0-85530b11c21c"
      },
      "outputs": [
        {
          "name": "stdout",
          "output_type": "stream",
          "text": [
            "    Country  Region\n",
            "0   Algeria  AFRICA\n",
            "1    Angola  AFRICA\n",
            "2     Benin  AFRICA\n",
            "3  Botswana  AFRICA\n",
            "4   Burkina  AFRICA\n"
          ]
        }
      ],
      "source": [
        "import requests\n",
        "import pandas as pd\n",
        "from io import StringIO\n",
        "\n",
        "\n",
        "url = \"https://raw.githubusercontent.com/cs109/2014_data/master/countries.csv\"\n",
        "headers = {\n",
        "    \"User-Agent\": \"Mozilla/5.0 (Macintosh; Intel Mac OS X 10.14; rv:66.0) Gecko/20100101 Firefox/66.0\"\n",
        "}\n",
        "\n",
        "req = requests.get(url, headers=headers)\n",
        "data = StringIO(req.text)      # Convert the response text into a file-like object for pandas\n",
        "df = pd.read_csv(data)\n",
        "print(df.head())       # Print the first few rows of the DataFrame to verify the data\n"
      ]
    },
    {
      "cell_type": "markdown",
      "metadata": {
        "id": "ejHI3aN1ErLM"
      },
      "source": [
        "* Sep Parameter"
      ]
    },
    {
      "cell_type": "code",
      "execution_count": null,
      "metadata": {
        "id": "Opf1uYl6Eyej"
      },
      "outputs": [],
      "source": [
        "pd.read_csv('file.tsv',sep='\\t', names=['according to data give the names', '',''])\n",
        "# here \\t is tab which means rather than finding commas find tabs also files.tsv is the name of your file"
      ]
    },
    {
      "cell_type": "markdown",
      "metadata": {
        "id": "nDEn5tCLFqvK"
      },
      "source": [
        "* Index_col *Parameter*"
      ]
    },
    {
      "cell_type": "code",
      "execution_count": null,
      "metadata": {
        "id": "P27-9piVFtHP"
      },
      "outputs": [],
      "source": [
        "pd.read_csv('fileName.csv', index_col='column name') #this will replace default automatic created column"
      ]
    },
    {
      "cell_type": "markdown",
      "metadata": {
        "id": "6ZoHhGthGJHS"
      },
      "source": [
        "* Header Parameter"
      ]
    },
    {
      "cell_type": "code",
      "execution_count": null,
      "metadata": {
        "id": "kY0Sy5GHGK93"
      },
      "outputs": [],
      "source": [
        "pd.read_csv('fileName.csv', header=1) #this is used when column names are treated as rows\n"
      ]
    },
    {
      "cell_type": "markdown",
      "metadata": {
        "id": "aQhfmavQGine"
      },
      "source": [
        "* use_cols parameter"
      ]
    },
    {
      "cell_type": "code",
      "execution_count": null,
      "metadata": {
        "id": "ByzvAdGIGk2q"
      },
      "outputs": [],
      "source": [
        "pd.read_csv('FileName.csv', usecols=['columnName1', 'columnName2'])  #if we need only specific columns"
      ]
    },
    {
      "cell_type": "markdown",
      "metadata": {
        "id": "YkJNwH6QHJOc"
      },
      "source": [
        "* Squeeze Parameters"
      ]
    },
    {
      "cell_type": "code",
      "execution_count": null,
      "metadata": {
        "id": "kC3Mf8n5HLOD"
      },
      "outputs": [],
      "source": [
        "pd.read_csv('FileName.csv', usecols=['columnName1'], squeeze=True)  # here its not pands data frame it becomes panda series object\n"
      ]
    },
    {
      "cell_type": "markdown",
      "metadata": {
        "id": "XGW6wGGnHkIe"
      },
      "source": [
        "* Skip rows/nrows Parameter"
      ]
    },
    {
      "cell_type": "code",
      "execution_count": null,
      "metadata": {
        "id": "W6nm7XXwHnd2"
      },
      "outputs": [],
      "source": [
        "pd.read_csv('FileName.csv', skiprows=[0,1])  # it skips the rows we give we can give random numbers to skip it"
      ]
    },
    {
      "cell_type": "code",
      "execution_count": null,
      "metadata": {
        "id": "p30m_hG9INF4"
      },
      "outputs": [],
      "source": [
        "pd.read_csv('FileName.csv', nrows=[100])  # now it gives only 100 rows if the csv file has 500 rows of data"
      ]
    },
    {
      "cell_type": "markdown",
      "metadata": {
        "id": "Zoth6S_LICTk"
      },
      "source": [
        "* Encoding Parameter"
      ]
    },
    {
      "cell_type": "code",
      "execution_count": null,
      "metadata": {
        "id": "v4HqSYXtIedt"
      },
      "outputs": [],
      "source": [
        "# Read the CSV file with a specific text encoding (latin-1) to handle special characters\n",
        "df = pd.read_csv('FileName.csv', encoding='latin-1')\n"
      ]
    },
    {
      "cell_type": "markdown",
      "metadata": {
        "id": "AJ56WYk5J_JO"
      },
      "source": [
        "* Skip Bad Lines"
      ]
    },
    {
      "cell_type": "code",
      "execution_count": null,
      "metadata": {
        "id": "DLp3H-FWKHo_"
      },
      "outputs": [],
      "source": [
        "\n",
        "df = pd.read_csv('FileName.csv', error_bad_lines=False)  #this will skip the bad lines\n"
      ]
    },
    {
      "cell_type": "markdown",
      "metadata": {
        "id": "h7vLSPVbadO7"
      },
      "source": [
        "* dtypes Parameters"
      ]
    },
    {
      "cell_type": "code",
      "execution_count": null,
      "metadata": {
        "id": "GjX7CDLwagHk"
      },
      "outputs": [],
      "source": [
        "pd.read_csv('FileName.csv', dtypes={'colName':datatype you want to change}) #change the datatypes"
      ]
    },
    {
      "cell_type": "markdown",
      "metadata": {
        "id": "qof_H-uxa0i0"
      },
      "source": [
        "* Handling Dates"
      ]
    },
    {
      "cell_type": "code",
      "execution_count": null,
      "metadata": {
        "id": "oljcysHOa3nQ"
      },
      "outputs": [],
      "source": [
        "pd.read_csv('FileName.csv', prase_dates=['colName'])  #treat dates as date not as object\n",
        "\n"
      ]
    },
    {
      "cell_type": "markdown",
      "metadata": {
        "id": "rxT0bpKhbuCx"
      },
      "source": [
        "* Converters"
      ]
    },
    {
      "cell_type": "code",
      "execution_count": null,
      "metadata": {
        "id": "y1Sp7X5Eb7xs"
      },
      "outputs": [],
      "source": [
        "def rename(name):\n",
        "  if name ==\"Royal Challenegers Banglore\":\n",
        "    return \"RCB\"\n",
        "  else:\n",
        "    return name"
      ]
    },
    {
      "cell_type": "code",
      "execution_count": null,
      "metadata": {
        "colab": {
          "base_uri": "https://localhost:8080/",
          "height": 35
        },
        "id": "XpsuNOfxc0A3",
        "outputId": "6b9b2761-a804-4a07-986b-883cf613729e"
      },
      "outputs": [
        {
          "data": {
            "application/vnd.google.colaboratory.intrinsic+json": {
              "type": "string"
            },
            "text/plain": [
              "'RCB'"
            ]
          },
          "execution_count": 8,
          "metadata": {},
          "output_type": "execute_result"
        }
      ],
      "source": [
        "rename (\"Royal Challenegers Banglore\")"
      ]
    },
    {
      "cell_type": "code",
      "execution_count": null,
      "metadata": {
        "id": "pGaVej1ja4B4"
      },
      "outputs": [],
      "source": [
        "pd.read_csv('FileName.csv', converters={'colName' :functionName })   #as shown in above exampe"
      ]
    },
    {
      "cell_type": "markdown",
      "metadata": {
        "id": "Ol2xPhYldI6Z"
      },
      "source": [
        "* na_values parameters"
      ]
    },
    {
      "cell_type": "code",
      "execution_count": null,
      "metadata": {
        "id": "wAcVpVE6dLcC"
      },
      "outputs": [],
      "source": [
        "pd.read_csv('FileName.csv', na_values=['colName'])   #make the column nan as we don't need them and treat them accordingly"
      ]
    },
    {
      "cell_type": "markdown",
      "metadata": {
        "id": "ySIcibTUdk_1"
      },
      "source": [
        "* Loading huge dataset in chunks"
      ]
    },
    {
      "cell_type": "code",
      "execution_count": null,
      "metadata": {
        "id": "kV1kLLp0dovB"
      },
      "outputs": [],
      "source": [
        "dfs= pd.read_csv('FileName.csv', chunksize= 500  )   #divide hige dataset to chunks/groups (enter number in place of 500) also here dfs i svariable"
      ]
    },
    {
      "cell_type": "code",
      "execution_count": null,
      "metadata": {
        "id": "5f6INpeHd8nO"
      },
      "outputs": [],
      "source": [
        "for chunks in dfs:\n",
        "  print (chunk.shape)  #checking the size"
      ]
    },
    {
      "cell_type": "markdown",
      "metadata": {
        "id": "tHDLINz8LJGL"
      },
      "source": [
        "2. Working with JSON / SQL Data"
      ]
    },
    {
      "cell_type": "markdown",
      "metadata": {
        "id": "k3BXz9aOLSDW"
      },
      "source": [
        "* JSON is Javascript on Notation, JSON is universal because almost all languages understand JSON data.\n",
        "\n",
        "* SQL is structured query language it is taken directly from database"
      ]
    },
    {
      "cell_type": "code",
      "execution_count": null,
      "metadata": {
        "id": "HSg2zpumLOLm"
      },
      "outputs": [],
      "source": [
        "pd.read_json('train.json')   #read from json file"
      ]
    },
    {
      "cell_type": "code",
      "execution_count": null,
      "metadata": {
        "id": "pAw_IcnvMel9"
      },
      "outputs": [],
      "source": [
        "pd.read_json('link/URL')  #it is used to import the data from URL"
      ]
    },
    {
      "cell_type": "markdown",
      "metadata": {
        "id": "GloRQMDpMycF"
      },
      "source": [
        "SQL"
      ]
    },
    {
      "cell_type": "markdown",
      "metadata": {
        "id": "ywDcTSKYNGLd"
      },
      "source": [
        "Here we have to run the SQL file in our system, for instance through xampp. Then create new database in xampp and upload the downladed sql file from kaggle or wherever you found it. And we need to bridge mysql with python for that we need to use mysql.connector."
      ]
    },
    {
      "cell_type": "code",
      "execution_count": null,
      "metadata": {
        "colab": {
          "base_uri": "https://localhost:8080/"
        },
        "id": "8SzoYG2DNFpk",
        "outputId": "269c58be-9685-459b-d154-94d5c924ddc4"
      },
      "outputs": [
        {
          "name": "stdout",
          "output_type": "stream",
          "text": [
            "Collecting mysql.connector\n",
            "  Downloading mysql-connector-2.2.9.tar.gz (11.9 MB)\n",
            "\u001b[2K     \u001b[90m━━━━━━━━━━━━━━━━━━━━━━━━━━━━━━━━━━━━━━━━\u001b[0m \u001b[32m11.9/11.9 MB\u001b[0m \u001b[31m27.3 MB/s\u001b[0m eta \u001b[36m0:00:00\u001b[0m\n",
            "\u001b[?25h  Preparing metadata (setup.py) ... \u001b[?25l\u001b[?25hdone\n",
            "Building wheels for collected packages: mysql.connector\n",
            "  Building wheel for mysql.connector (setup.py) ... \u001b[?25l\u001b[?25hdone\n",
            "  Created wheel for mysql.connector: filename=mysql_connector-2.2.9-cp311-cp311-linux_x86_64.whl size=247951 sha256=537784257d6b41849dd383ea31a1d35dfbafd9c51efccb75d747a3e3c5e5ccc6\n",
            "  Stored in directory: /root/.cache/pip/wheels/17/cd/ed/2d49e9bac69cf09382e4c7cc20a2511202b48324b87db26019\n",
            "Successfully built mysql.connector\n",
            "Installing collected packages: mysql.connector\n",
            "Successfully installed mysql.connector-2.2.9\n"
          ]
        }
      ],
      "source": [
        "!pip install mysql.connector  #installing"
      ]
    },
    {
      "cell_type": "code",
      "execution_count": null,
      "metadata": {
        "id": "-ByJd4jIMpRh"
      },
      "outputs": [],
      "source": [
        "import mysql.connector  #importing"
      ]
    },
    {
      "cell_type": "code",
      "execution_count": null,
      "metadata": {
        "id": "kx-TlUC0N-cT"
      },
      "outputs": [],
      "source": [
        "conn = mysql.connector.connect (host='localhost/ip adress', user='root', password='', database='databasename')\n",
        "#if working with local database then write host='localhost' else you have to write the ip address\n",
        "#then we get mySQL connection"
      ]
    },
    {
      "cell_type": "code",
      "execution_count": null,
      "metadata": {
        "id": "aQLRQkUjOlBc"
      },
      "outputs": [],
      "source": [
        "pd.read_sql_query(\"select * From tableName\", conn) #here conn is the variable we use in abouve block"
      ]
    },
    {
      "cell_type": "markdown",
      "metadata": {
        "id": "3lTYmXbJ8Cvu"
      },
      "source": []
    },
    {
      "cell_type": "markdown",
      "metadata": {
        "id": "HQTiQUOV8Cin"
      },
      "source": []
    },
    {
      "cell_type": "markdown",
      "metadata": {
        "id": "HsIDvIasPfQ0"
      },
      "source": [
        "# 3. Fetching data from API"
      ]
    },
    {
      "cell_type": "markdown",
      "metadata": {
        "id": "m009mw3M-W8_"
      },
      "source": [
        "Working from TMDB (database of movie)\n",
        "\n",
        "https://developer.themoviedb.org/docs/getting-started\n",
        "\n",
        "https://developer.themoviedb.org/reference/movie-top-rated-list"
      ]
    },
    {
      "cell_type": "code",
      "execution_count": null,
      "metadata": {
        "id": "SuGru9I4PiYc"
      },
      "outputs": [],
      "source": [
        "import pandas as pd\n",
        "import requests"
      ]
    },
    {
      "cell_type": "code",
      "execution_count": null,
      "metadata": {
        "id": "8Q0bq9kjBGvv"
      },
      "outputs": [],
      "source": [
        "response = requests.get('https://api.themoviedb.org/3/movie/top_rated?api_key=08f5259a7b43d7d3bf08a261a0f38dd1&language=en-US&page=1')"
      ]
    },
    {
      "cell_type": "code",
      "execution_count": null,
      "metadata": {
        "colab": {
          "base_uri": "https://localhost:8080/"
        },
        "id": "X-9kobaSB5bI",
        "outputId": "fc69d439-be4a-4a73-e220-8a21786d925b"
      },
      "outputs": [
        {
          "data": {
            "text/plain": [
              "[{'adult': False,\n",
              "  'backdrop_path': '/kXfqcdQKsToO0OUXHcrrNCHDBzO.jpg',\n",
              "  'genre_ids': [18, 80],\n",
              "  'id': 278,\n",
              "  'original_language': 'en',\n",
              "  'original_title': 'The Shawshank Redemption',\n",
              "  'overview': 'Imprisoned in the 1940s for the double murder of his wife and her lover, upstanding banker Andy Dufresne begins a new life at the Shawshank prison, where he puts his accounting skills to work for an amoral warden. During his long stretch in prison, Dufresne comes to be admired by the other inmates -- including an older prisoner named Red -- for his integrity and unquenchable sense of hope.',\n",
              "  'popularity': 35.0837,\n",
              "  'poster_path': '/9cqNxx0GxF0bflZmeSMuL5tnGzr.jpg',\n",
              "  'release_date': '1994-09-23',\n",
              "  'title': 'The Shawshank Redemption',\n",
              "  'video': False,\n",
              "  'vote_average': 8.71,\n",
              "  'vote_count': 28334},\n",
              " {'adult': False,\n",
              "  'backdrop_path': '/tmU7GeKVybMWFButWEGl2M4GeiP.jpg',\n",
              "  'genre_ids': [18, 80],\n",
              "  'id': 238,\n",
              "  'original_language': 'en',\n",
              "  'original_title': 'The Godfather',\n",
              "  'overview': 'Spanning the years 1945 to 1955, a chronicle of the fictional Italian-American Corleone crime family. When organized crime family patriarch, Vito Corleone barely survives an attempt on his life, his youngest son, Michael steps in to take care of the would-be killers, launching a campaign of bloody revenge.',\n",
              "  'popularity': 34.2345,\n",
              "  'poster_path': '/3bhkrj58Vtu7enYsRolD1fZdja1.jpg',\n",
              "  'release_date': '1972-03-14',\n",
              "  'title': 'The Godfather',\n",
              "  'video': False,\n",
              "  'vote_average': 8.686,\n",
              "  'vote_count': 21466},\n",
              " {'adult': False,\n",
              "  'backdrop_path': '/kGzFbGhp99zva6oZODW5atUtnqi.jpg',\n",
              "  'genre_ids': [18, 80],\n",
              "  'id': 240,\n",
              "  'original_language': 'en',\n",
              "  'original_title': 'The Godfather Part II',\n",
              "  'overview': 'In the continuing saga of the Corleone crime family, a young Vito Corleone grows up in Sicily and in 1910s New York. In the 1950s, Michael Corleone attempts to expand the family business into Las Vegas, Hollywood and Cuba.',\n",
              "  'popularity': 17.3255,\n",
              "  'poster_path': '/hek3koDUyRQk7FIhPXsa6mT2Zc3.jpg',\n",
              "  'release_date': '1974-12-20',\n",
              "  'title': 'The Godfather Part II',\n",
              "  'video': False,\n",
              "  'vote_average': 8.57,\n",
              "  'vote_count': 12969},\n",
              " {'adult': False,\n",
              "  'backdrop_path': '/zb6fM1CX41D9rF9hdgclu0peUmy.jpg',\n",
              "  'genre_ids': [18, 36, 10752],\n",
              "  'id': 424,\n",
              "  'original_language': 'en',\n",
              "  'original_title': \"Schindler's List\",\n",
              "  'overview': 'The true story of how businessman Oskar Schindler saved over a thousand Jewish lives from the Nazis while they worked as slaves in his factory during World War II.',\n",
              "  'popularity': 19.4471,\n",
              "  'poster_path': '/sF1U4EUQS8YHUYjNl3pMGNIQyr0.jpg',\n",
              "  'release_date': '1993-12-15',\n",
              "  'title': \"Schindler's List\",\n",
              "  'video': False,\n",
              "  'vote_average': 8.565,\n",
              "  'vote_count': 16446},\n",
              " {'adult': False,\n",
              "  'backdrop_path': '/bxgTSUenZDHNFerQ1whRKplrMKF.jpg',\n",
              "  'genre_ids': [18],\n",
              "  'id': 389,\n",
              "  'original_language': 'en',\n",
              "  'original_title': '12 Angry Men',\n",
              "  'overview': \"The defense and the prosecution have rested and the jury is filing into the jury room to decide if a young Spanish-American is guilty or innocent of murdering his father. What begins as an open and shut case soon becomes a mini-drama of each of the jurors' prejudices and preconceptions about the trial, the accused, and each other.\",\n",
              "  'popularity': 15.5418,\n",
              "  'poster_path': '/ow3wq89wM8qd5X7hWKxiRfsFf9C.jpg',\n",
              "  'release_date': '1957-04-10',\n",
              "  'title': '12 Angry Men',\n",
              "  'video': False,\n",
              "  'vote_average': 8.548,\n",
              "  'vote_count': 9138},\n",
              " {'adult': False,\n",
              "  'backdrop_path': '/m4TUa2ciEWSlk37rOsjiSIvZDXE.jpg',\n",
              "  'genre_ids': [16, 10751, 14],\n",
              "  'id': 129,\n",
              "  'original_language': 'ja',\n",
              "  'original_title': '千と千尋の神隠し',\n",
              "  'overview': 'A young girl, Chihiro, becomes trapped in a strange new world of spirits. When her parents undergo a mysterious transformation, she must call upon the courage she never knew she had to free her family.',\n",
              "  'popularity': 22.2901,\n",
              "  'poster_path': '/39wmItIWsg5sZMyRUHLkWBcuVCM.jpg',\n",
              "  'release_date': '2001-07-20',\n",
              "  'title': 'Spirited Away',\n",
              "  'video': False,\n",
              "  'vote_average': 8.537,\n",
              "  'vote_count': 17154},\n",
              " {'adult': False,\n",
              "  'backdrop_path': '/plDp52MirFHc2PMJRMNWoG0kfr3.jpg',\n",
              "  'genre_ids': [18, 28, 80, 53],\n",
              "  'id': 155,\n",
              "  'original_language': 'en',\n",
              "  'original_title': 'The Dark Knight',\n",
              "  'overview': 'Batman raises the stakes in his war on crime. With the help of Lt. Jim Gordon and District Attorney Harvey Dent, Batman sets out to dismantle the remaining criminal organizations that plague the streets. The partnership proves to be effective, but they soon find themselves prey to a reign of chaos unleashed by a rising criminal mastermind known to the terrified citizens of Gotham as the Joker.',\n",
              "  'popularity': 29.665,\n",
              "  'poster_path': '/qJ2tW6WMUDux911r6m7haRef0WH.jpg',\n",
              "  'release_date': '2008-07-16',\n",
              "  'title': 'The Dark Knight',\n",
              "  'video': False,\n",
              "  'vote_average': 8.52,\n",
              "  'vote_count': 33874},\n",
              " {'adult': False,\n",
              "  'backdrop_path': '/90ez6ArvpO8bvpyIngBuwXOqJm5.jpg',\n",
              "  'genre_ids': [35, 18, 10749],\n",
              "  'id': 19404,\n",
              "  'original_language': 'hi',\n",
              "  'original_title': 'दिलवाले दुल्हनिया ले जायेंगे',\n",
              "  'overview': 'Raj is a rich, carefree, happy-go-lucky second generation NRI. Simran is the daughter of Chaudhary Baldev Singh, who in spite of being an NRI is very strict about adherence to Indian values. Simran has left for India to be married to her childhood fiancé. Raj leaves for India with a mission at his hands, to claim his lady love under the noses of her whole family. Thus begins a saga.',\n",
              "  'popularity': 8.0436,\n",
              "  'poster_path': '/rfcy6Gd3PbFIqwZX5U8xnbv7jOc.jpg',\n",
              "  'release_date': '1995-10-20',\n",
              "  'title': 'Dilwale Dulhania Le Jayenge',\n",
              "  'video': False,\n",
              "  'vote_average': 8.516,\n",
              "  'vote_count': 4486},\n",
              " {'adult': False,\n",
              "  'backdrop_path': '/amZavErrjrdgDwhsIdpWxHNenIx.jpg',\n",
              "  'genre_ids': [14, 18, 80],\n",
              "  'id': 497,\n",
              "  'original_language': 'en',\n",
              "  'original_title': 'The Green Mile',\n",
              "  'overview': \"A supernatural tale set on death row in a Southern prison, where gentle giant John Coffey possesses the mysterious power to heal people's ailments. When the cell block's head guard, Paul Edgecomb, recognizes Coffey's miraculous gift, he tries desperately to help stave off the condemned man's execution.\",\n",
              "  'popularity': 16.6755,\n",
              "  'poster_path': '/8VG8fDNiy50H4FedGwdSVUPoaJe.jpg',\n",
              "  'release_date': '1999-12-10',\n",
              "  'title': 'The Green Mile',\n",
              "  'video': False,\n",
              "  'vote_average': 8.505,\n",
              "  'vote_count': 18106},\n",
              " {'adult': False,\n",
              "  'backdrop_path': '/hiKmpZMGZsrkA3cdce8a7Dpos1j.jpg',\n",
              "  'genre_ids': [35, 53, 18],\n",
              "  'id': 496243,\n",
              "  'original_language': 'ko',\n",
              "  'original_title': '기생충',\n",
              "  'overview': \"All unemployed, Ki-taek's family takes peculiar interest in the wealthy and glamorous Parks for their livelihood until they get entangled in an unexpected incident.\",\n",
              "  'popularity': 26.5197,\n",
              "  'poster_path': '/7IiTTgloJzvGI1TAYymCfbfl3vT.jpg',\n",
              "  'release_date': '2019-05-30',\n",
              "  'title': 'Parasite',\n",
              "  'video': False,\n",
              "  'vote_average': 8.499,\n",
              "  'vote_count': 19073},\n",
              " {'adult': False,\n",
              "  'backdrop_path': '/suaEOtk1N1sgg2MTM7oZd2cfVp3.jpg',\n",
              "  'genre_ids': [53, 80],\n",
              "  'id': 680,\n",
              "  'original_language': 'en',\n",
              "  'original_title': 'Pulp Fiction',\n",
              "  'overview': \"A burger-loving hit man, his philosophical partner, a drug-addled gangster's moll and a washed-up boxer converge in this sprawling, comedic crime caper. Their adventures unfurl in three stories that ingeniously trip back and forth in time.\",\n",
              "  'popularity': 19.0292,\n",
              "  'poster_path': '/vQWk5YBFWF4bZaofAbv0tShwBvQ.jpg',\n",
              "  'release_date': '1994-09-10',\n",
              "  'title': 'Pulp Fiction',\n",
              "  'video': False,\n",
              "  'vote_average': 8.489,\n",
              "  'vote_count': 28685},\n",
              " {'adult': False,\n",
              "  'backdrop_path': '/2u7zbn8EudG6kLlBzUYqP8RyFU4.jpg',\n",
              "  'genre_ids': [12, 14, 28],\n",
              "  'id': 122,\n",
              "  'original_language': 'en',\n",
              "  'original_title': 'The Lord of the Rings: The Return of the King',\n",
              "  'overview': 'As armies mass for a final battle that will decide the fate of the world--and powerful, ancient forces of Light and Dark compete to determine the outcome--one member of the Fellowship of the Ring is revealed as the noble heir to the throne of the Kings of Men. Yet, the sole hope for triumph over evil lies with a brave hobbit, Frodo, who, accompanied by his loyal friend Sam and the hideous, wretched Gollum, ventures deep into the very dark heart of Mordor on his seemingly impossible quest to destroy the Ring of Power.\\u200b',\n",
              "  'popularity': 23.5792,\n",
              "  'poster_path': '/rCzpDGLbOoPwLjy3OAm5NUPOTrC.jpg',\n",
              "  'release_date': '2003-12-17',\n",
              "  'title': 'The Lord of the Rings: The Return of the King',\n",
              "  'video': False,\n",
              "  'vote_average': 8.484,\n",
              "  'vote_count': 25098},\n",
              " {'adult': False,\n",
              "  'backdrop_path': '/8x9iKH8kWA0zdkgNdpAew7OstYe.jpg',\n",
              "  'genre_ids': [16, 10749, 18],\n",
              "  'id': 372058,\n",
              "  'original_language': 'ja',\n",
              "  'original_title': '君の名は。',\n",
              "  'overview': 'High schoolers Mitsuha and Taki are complete strangers living separate lives. But one night, they suddenly switch places. Mitsuha wakes up in Taki’s body, and he in hers. This bizarre occurrence continues to happen randomly, and the two must adjust their lives around each other.',\n",
              "  'popularity': 20.2473,\n",
              "  'poster_path': '/8GJsy7w7frGquw1cy9jasOGNNI1.jpg',\n",
              "  'release_date': '2016-08-26',\n",
              "  'title': 'Your Name.',\n",
              "  'video': False,\n",
              "  'vote_average': 8.482,\n",
              "  'vote_count': 11779},\n",
              " {'adult': False,\n",
              "  'backdrop_path': '/tlEFuIlaxRPXIYVHXbOSAMCfWqk.jpg',\n",
              "  'genre_ids': [35, 18, 10749],\n",
              "  'id': 13,\n",
              "  'original_language': 'en',\n",
              "  'original_title': 'Forrest Gump',\n",
              "  'overview': 'A man with a low IQ has accomplished great things in his life and been present during significant historic events—in each case, far exceeding what anyone imagined he could do. But despite all he has achieved, his one true love eludes him.',\n",
              "  'popularity': 27.9901,\n",
              "  'poster_path': '/arw2vcBveWOVZr6pxd9XTd1TdQa.jpg',\n",
              "  'release_date': '1994-06-23',\n",
              "  'title': 'Forrest Gump',\n",
              "  'video': False,\n",
              "  'vote_average': 8.468,\n",
              "  'vote_count': 28228},\n",
              " {'adult': False,\n",
              "  'backdrop_path': '/x4biAVdPVCghBlsVIzB6NmbghIz.jpg',\n",
              "  'genre_ids': [37],\n",
              "  'id': 429,\n",
              "  'original_language': 'it',\n",
              "  'original_title': 'Il buono, il brutto, il cattivo',\n",
              "  'overview': 'While the Civil War rages on between the Union and the Confederacy, three men – a quiet loner, a ruthless hitman, and a Mexican bandit – comb the American Southwest in search of a strongbox containing $200,000 in stolen gold.',\n",
              "  'popularity': 13.9395,\n",
              "  'poster_path': '/bX2xnavhMYjWDoZp1VM6VnU1xwe.jpg',\n",
              "  'release_date': '1966-12-22',\n",
              "  'title': 'The Good, the Bad and the Ugly',\n",
              "  'video': False,\n",
              "  'vote_average': 8.462,\n",
              "  'vote_count': 8990},\n",
              " {'adult': False,\n",
              "  'backdrop_path': '/l33oR0mnvf20avWyIMxW02EtQxn.jpg',\n",
              "  'genre_ids': [12, 18, 878],\n",
              "  'id': 157336,\n",
              "  'original_language': 'en',\n",
              "  'original_title': 'Interstellar',\n",
              "  'overview': 'The adventures of a group of explorers who make use of a newly discovered wormhole to surpass the limitations on human space travel and conquer the vast distances involved in an interstellar voyage.',\n",
              "  'popularity': 37.2563,\n",
              "  'poster_path': '/gEU2QniE6E77NI6lCU6MxlNBvIx.jpg',\n",
              "  'release_date': '2014-11-05',\n",
              "  'title': 'Interstellar',\n",
              "  'video': False,\n",
              "  'vote_average': 8.455,\n",
              "  'vote_count': 37178},\n",
              " {'adult': False,\n",
              "  'backdrop_path': '/7TF4p86ZafnxFuNqWdhpHXFO244.jpg',\n",
              "  'genre_ids': [18, 80],\n",
              "  'id': 769,\n",
              "  'original_language': 'en',\n",
              "  'original_title': 'GoodFellas',\n",
              "  'overview': 'The true story of Henry Hill, a half-Irish, half-Sicilian Brooklyn kid who is adopted by neighbourhood gangsters at an early age and climbs the ranks of a Mafia family under the guidance of Jimmy Conway.',\n",
              "  'popularity': 16.4733,\n",
              "  'poster_path': '/aKuFiU82s5ISJpGZp7YkIr3kCUd.jpg',\n",
              "  'release_date': '1990-09-12',\n",
              "  'title': 'GoodFellas',\n",
              "  'video': False,\n",
              "  'vote_average': 8.455,\n",
              "  'vote_count': 13383},\n",
              " {'adult': False,\n",
              "  'backdrop_path': '/sJNNMCc6B7KZIY3LH3JMYJJNH5j.jpg',\n",
              "  'genre_ids': [28, 18],\n",
              "  'id': 346,\n",
              "  'original_language': 'ja',\n",
              "  'original_title': '七人の侍',\n",
              "  'overview': \"A samurai answers a village's request for protection after he falls on hard times. The town needs protection from bandits, so the samurai gathers six others to help him teach the people how to defend themselves, and the villagers provide the soldiers with food.\",\n",
              "  'popularity': 8.0157,\n",
              "  'poster_path': '/8OKmBV5BUFzmozIC3pPWKHy17kx.jpg',\n",
              "  'release_date': '1954-04-26',\n",
              "  'title': 'Seven Samurai',\n",
              "  'video': False,\n",
              "  'vote_average': 8.456,\n",
              "  'vote_count': 3892},\n",
              " {'adult': False,\n",
              "  'backdrop_path': '/tDFvXn4tane9lUvFAFAUkMylwSr.jpg',\n",
              "  'genre_ids': [16, 18, 10752],\n",
              "  'id': 12477,\n",
              "  'original_language': 'ja',\n",
              "  'original_title': '火垂るの墓',\n",
              "  'overview': 'In the final months of World War II, 14-year-old Seita and his sister Setsuko are orphaned when their mother is killed during an air raid in Kobe, Japan. After a falling out with their aunt, they move into an abandoned bomb shelter. With no surviving relatives and their emergency rations depleted, Seita and Setsuko struggle to survive.',\n",
              "  'popularity': 0.0107,\n",
              "  'poster_path': '/k9tv1rXZbOhH7eiCk378x61kNQ1.jpg',\n",
              "  'release_date': '1988-04-16',\n",
              "  'title': 'Grave of the Fireflies',\n",
              "  'video': False,\n",
              "  'vote_average': 8.449,\n",
              "  'vote_count': 5895},\n",
              " {'adult': False,\n",
              "  'backdrop_path': '/6aNKD81RHR1DqUUa8kOZ1TBY1Lp.jpg',\n",
              "  'genre_ids': [35, 18],\n",
              "  'id': 637,\n",
              "  'original_language': 'it',\n",
              "  'original_title': 'La vita è bella',\n",
              "  'overview': 'A touching story of an Italian book seller of Jewish ancestry who lives in his own little fairy tale. His creative and happy life would come to an abrupt halt when his entire family is deported to a concentration camp during World War II. While locked up he tries to convince his son that the whole thing is just a game.',\n",
              "  'popularity': 10.1498,\n",
              "  'poster_path': '/74hLDKjD5aGYOotO6esUVaeISa2.jpg',\n",
              "  'release_date': '1997-12-20',\n",
              "  'title': 'Life Is Beautiful',\n",
              "  'video': False,\n",
              "  'vote_average': 8.448,\n",
              "  'vote_count': 13376}]"
            ]
          },
          "execution_count": 5,
          "metadata": {},
          "output_type": "execute_result"
        }
      ],
      "source": [
        "response.json()['results']"
      ]
    },
    {
      "cell_type": "code",
      "execution_count": null,
      "metadata": {
        "colab": {
          "base_uri": "https://localhost:8080/",
          "height": 1000
        },
        "id": "PsWeHHSjCGCu",
        "outputId": "ae243672-015a-4cb2-d281-7457d46181b9"
      },
      "outputs": [
        {
          "data": {
            "application/vnd.google.colaboratory.intrinsic+json": {
              "summary": "{\n  \"name\": \"pd\",\n  \"rows\": 10,\n  \"fields\": [\n    {\n      \"column\": \"adult\",\n      \"properties\": {\n        \"dtype\": \"boolean\",\n        \"num_unique_values\": 1,\n        \"samples\": [\n          false\n        ],\n        \"semantic_type\": \"\",\n        \"description\": \"\"\n      }\n    },\n    {\n      \"column\": \"backdrop_path\",\n      \"properties\": {\n        \"dtype\": \"string\",\n        \"num_unique_values\": 10,\n        \"samples\": [\n          \"/amZavErrjrdgDwhsIdpWxHNenIx.jpg\"\n        ],\n        \"semantic_type\": \"\",\n        \"description\": \"\"\n      }\n    },\n    {\n      \"column\": \"genre_ids\",\n      \"properties\": {\n        \"dtype\": \"object\",\n        \"semantic_type\": \"\",\n        \"description\": \"\"\n      }\n    },\n    {\n      \"column\": \"id\",\n      \"properties\": {\n        \"dtype\": \"number\",\n        \"std\": 156276,\n        \"min\": 129,\n        \"max\": 496243,\n        \"num_unique_values\": 10,\n        \"samples\": [\n          497\n        ],\n        \"semantic_type\": \"\",\n        \"description\": \"\"\n      }\n    },\n    {\n      \"column\": \"original_language\",\n      \"properties\": {\n        \"dtype\": \"category\",\n        \"num_unique_values\": 4,\n        \"samples\": [\n          \"ja\"\n        ],\n        \"semantic_type\": \"\",\n        \"description\": \"\"\n      }\n    },\n    {\n      \"column\": \"original_title\",\n      \"properties\": {\n        \"dtype\": \"string\",\n        \"num_unique_values\": 10,\n        \"samples\": [\n          \"The Green Mile\"\n        ],\n        \"semantic_type\": \"\",\n        \"description\": \"\"\n      }\n    },\n    {\n      \"column\": \"overview\",\n      \"properties\": {\n        \"dtype\": \"string\",\n        \"num_unique_values\": 10,\n        \"samples\": [\n          \"A supernatural tale set on death row in a Southern prison, where gentle giant John Coffey possesses the mysterious power to heal people's ailments. When the cell block's head guard, Paul Edgecomb, recognizes Coffey's miraculous gift, he tries desperately to help stave off the condemned man's execution.\"\n        ],\n        \"semantic_type\": \"\",\n        \"description\": \"\"\n      }\n    },\n    {\n      \"column\": \"popularity\",\n      \"properties\": {\n        \"dtype\": \"number\",\n        \"std\": 8.762348454387734,\n        \"min\": 8.0436,\n        \"max\": 35.0837,\n        \"num_unique_values\": 10,\n        \"samples\": [\n          16.6755\n        ],\n        \"semantic_type\": \"\",\n        \"description\": \"\"\n      }\n    },\n    {\n      \"column\": \"poster_path\",\n      \"properties\": {\n        \"dtype\": \"string\",\n        \"num_unique_values\": 10,\n        \"samples\": [\n          \"/8VG8fDNiy50H4FedGwdSVUPoaJe.jpg\"\n        ],\n        \"semantic_type\": \"\",\n        \"description\": \"\"\n      }\n    },\n    {\n      \"column\": \"release_date\",\n      \"properties\": {\n        \"dtype\": \"object\",\n        \"num_unique_values\": 10,\n        \"samples\": [\n          \"1999-12-10\"\n        ],\n        \"semantic_type\": \"\",\n        \"description\": \"\"\n      }\n    },\n    {\n      \"column\": \"title\",\n      \"properties\": {\n        \"dtype\": \"string\",\n        \"num_unique_values\": 10,\n        \"samples\": [\n          \"The Green Mile\"\n        ],\n        \"semantic_type\": \"\",\n        \"description\": \"\"\n      }\n    },\n    {\n      \"column\": \"video\",\n      \"properties\": {\n        \"dtype\": \"boolean\",\n        \"num_unique_values\": 1,\n        \"samples\": [\n          false\n        ],\n        \"semantic_type\": \"\",\n        \"description\": \"\"\n      }\n    },\n    {\n      \"column\": \"vote_average\",\n      \"properties\": {\n        \"dtype\": \"number\",\n        \"std\": 0.07389361722548621,\n        \"min\": 8.499,\n        \"max\": 8.71,\n        \"num_unique_values\": 10,\n        \"samples\": [\n          8.505\n        ],\n        \"semantic_type\": \"\",\n        \"description\": \"\"\n      }\n    },\n    {\n      \"column\": \"vote_count\",\n      \"properties\": {\n        \"dtype\": \"number\",\n        \"std\": 8572,\n        \"min\": 4486,\n        \"max\": 33874,\n        \"num_unique_values\": 10,\n        \"samples\": [\n          18106\n        ],\n        \"semantic_type\": \"\",\n        \"description\": \"\"\n      }\n    }\n  ]\n}",
              "type": "dataframe"
            },
            "text/html": [
              "\n",
              "  <div id=\"df-d4df0b07-d1c1-4e1c-ba6c-648ec95f393f\" class=\"colab-df-container\">\n",
              "    <div>\n",
              "<style scoped>\n",
              "    .dataframe tbody tr th:only-of-type {\n",
              "        vertical-align: middle;\n",
              "    }\n",
              "\n",
              "    .dataframe tbody tr th {\n",
              "        vertical-align: top;\n",
              "    }\n",
              "\n",
              "    .dataframe thead th {\n",
              "        text-align: right;\n",
              "    }\n",
              "</style>\n",
              "<table border=\"1\" class=\"dataframe\">\n",
              "  <thead>\n",
              "    <tr style=\"text-align: right;\">\n",
              "      <th></th>\n",
              "      <th>adult</th>\n",
              "      <th>backdrop_path</th>\n",
              "      <th>genre_ids</th>\n",
              "      <th>id</th>\n",
              "      <th>original_language</th>\n",
              "      <th>original_title</th>\n",
              "      <th>overview</th>\n",
              "      <th>popularity</th>\n",
              "      <th>poster_path</th>\n",
              "      <th>release_date</th>\n",
              "      <th>title</th>\n",
              "      <th>video</th>\n",
              "      <th>vote_average</th>\n",
              "      <th>vote_count</th>\n",
              "    </tr>\n",
              "  </thead>\n",
              "  <tbody>\n",
              "    <tr>\n",
              "      <th>0</th>\n",
              "      <td>False</td>\n",
              "      <td>/kXfqcdQKsToO0OUXHcrrNCHDBzO.jpg</td>\n",
              "      <td>[18, 80]</td>\n",
              "      <td>278</td>\n",
              "      <td>en</td>\n",
              "      <td>The Shawshank Redemption</td>\n",
              "      <td>Imprisoned in the 1940s for the double murder ...</td>\n",
              "      <td>35.0837</td>\n",
              "      <td>/9cqNxx0GxF0bflZmeSMuL5tnGzr.jpg</td>\n",
              "      <td>1994-09-23</td>\n",
              "      <td>The Shawshank Redemption</td>\n",
              "      <td>False</td>\n",
              "      <td>8.710</td>\n",
              "      <td>28334</td>\n",
              "    </tr>\n",
              "    <tr>\n",
              "      <th>1</th>\n",
              "      <td>False</td>\n",
              "      <td>/tmU7GeKVybMWFButWEGl2M4GeiP.jpg</td>\n",
              "      <td>[18, 80]</td>\n",
              "      <td>238</td>\n",
              "      <td>en</td>\n",
              "      <td>The Godfather</td>\n",
              "      <td>Spanning the years 1945 to 1955, a chronicle o...</td>\n",
              "      <td>34.2345</td>\n",
              "      <td>/3bhkrj58Vtu7enYsRolD1fZdja1.jpg</td>\n",
              "      <td>1972-03-14</td>\n",
              "      <td>The Godfather</td>\n",
              "      <td>False</td>\n",
              "      <td>8.686</td>\n",
              "      <td>21466</td>\n",
              "    </tr>\n",
              "    <tr>\n",
              "      <th>2</th>\n",
              "      <td>False</td>\n",
              "      <td>/kGzFbGhp99zva6oZODW5atUtnqi.jpg</td>\n",
              "      <td>[18, 80]</td>\n",
              "      <td>240</td>\n",
              "      <td>en</td>\n",
              "      <td>The Godfather Part II</td>\n",
              "      <td>In the continuing saga of the Corleone crime f...</td>\n",
              "      <td>17.3255</td>\n",
              "      <td>/hek3koDUyRQk7FIhPXsa6mT2Zc3.jpg</td>\n",
              "      <td>1974-12-20</td>\n",
              "      <td>The Godfather Part II</td>\n",
              "      <td>False</td>\n",
              "      <td>8.570</td>\n",
              "      <td>12969</td>\n",
              "    </tr>\n",
              "    <tr>\n",
              "      <th>3</th>\n",
              "      <td>False</td>\n",
              "      <td>/zb6fM1CX41D9rF9hdgclu0peUmy.jpg</td>\n",
              "      <td>[18, 36, 10752]</td>\n",
              "      <td>424</td>\n",
              "      <td>en</td>\n",
              "      <td>Schindler's List</td>\n",
              "      <td>The true story of how businessman Oskar Schind...</td>\n",
              "      <td>19.4471</td>\n",
              "      <td>/sF1U4EUQS8YHUYjNl3pMGNIQyr0.jpg</td>\n",
              "      <td>1993-12-15</td>\n",
              "      <td>Schindler's List</td>\n",
              "      <td>False</td>\n",
              "      <td>8.565</td>\n",
              "      <td>16446</td>\n",
              "    </tr>\n",
              "    <tr>\n",
              "      <th>4</th>\n",
              "      <td>False</td>\n",
              "      <td>/bxgTSUenZDHNFerQ1whRKplrMKF.jpg</td>\n",
              "      <td>[18]</td>\n",
              "      <td>389</td>\n",
              "      <td>en</td>\n",
              "      <td>12 Angry Men</td>\n",
              "      <td>The defense and the prosecution have rested an...</td>\n",
              "      <td>15.5418</td>\n",
              "      <td>/ow3wq89wM8qd5X7hWKxiRfsFf9C.jpg</td>\n",
              "      <td>1957-04-10</td>\n",
              "      <td>12 Angry Men</td>\n",
              "      <td>False</td>\n",
              "      <td>8.548</td>\n",
              "      <td>9138</td>\n",
              "    </tr>\n",
              "    <tr>\n",
              "      <th>5</th>\n",
              "      <td>False</td>\n",
              "      <td>/m4TUa2ciEWSlk37rOsjiSIvZDXE.jpg</td>\n",
              "      <td>[16, 10751, 14]</td>\n",
              "      <td>129</td>\n",
              "      <td>ja</td>\n",
              "      <td>千と千尋の神隠し</td>\n",
              "      <td>A young girl, Chihiro, becomes trapped in a st...</td>\n",
              "      <td>22.2901</td>\n",
              "      <td>/39wmItIWsg5sZMyRUHLkWBcuVCM.jpg</td>\n",
              "      <td>2001-07-20</td>\n",
              "      <td>Spirited Away</td>\n",
              "      <td>False</td>\n",
              "      <td>8.537</td>\n",
              "      <td>17154</td>\n",
              "    </tr>\n",
              "    <tr>\n",
              "      <th>6</th>\n",
              "      <td>False</td>\n",
              "      <td>/plDp52MirFHc2PMJRMNWoG0kfr3.jpg</td>\n",
              "      <td>[18, 28, 80, 53]</td>\n",
              "      <td>155</td>\n",
              "      <td>en</td>\n",
              "      <td>The Dark Knight</td>\n",
              "      <td>Batman raises the stakes in his war on crime. ...</td>\n",
              "      <td>29.6650</td>\n",
              "      <td>/qJ2tW6WMUDux911r6m7haRef0WH.jpg</td>\n",
              "      <td>2008-07-16</td>\n",
              "      <td>The Dark Knight</td>\n",
              "      <td>False</td>\n",
              "      <td>8.520</td>\n",
              "      <td>33874</td>\n",
              "    </tr>\n",
              "    <tr>\n",
              "      <th>7</th>\n",
              "      <td>False</td>\n",
              "      <td>/90ez6ArvpO8bvpyIngBuwXOqJm5.jpg</td>\n",
              "      <td>[35, 18, 10749]</td>\n",
              "      <td>19404</td>\n",
              "      <td>hi</td>\n",
              "      <td>दिलवाले दुल्हनिया ले जायेंगे</td>\n",
              "      <td>Raj is a rich, carefree, happy-go-lucky second...</td>\n",
              "      <td>8.0436</td>\n",
              "      <td>/rfcy6Gd3PbFIqwZX5U8xnbv7jOc.jpg</td>\n",
              "      <td>1995-10-20</td>\n",
              "      <td>Dilwale Dulhania Le Jayenge</td>\n",
              "      <td>False</td>\n",
              "      <td>8.516</td>\n",
              "      <td>4486</td>\n",
              "    </tr>\n",
              "    <tr>\n",
              "      <th>8</th>\n",
              "      <td>False</td>\n",
              "      <td>/amZavErrjrdgDwhsIdpWxHNenIx.jpg</td>\n",
              "      <td>[14, 18, 80]</td>\n",
              "      <td>497</td>\n",
              "      <td>en</td>\n",
              "      <td>The Green Mile</td>\n",
              "      <td>A supernatural tale set on death row in a Sout...</td>\n",
              "      <td>16.6755</td>\n",
              "      <td>/8VG8fDNiy50H4FedGwdSVUPoaJe.jpg</td>\n",
              "      <td>1999-12-10</td>\n",
              "      <td>The Green Mile</td>\n",
              "      <td>False</td>\n",
              "      <td>8.505</td>\n",
              "      <td>18106</td>\n",
              "    </tr>\n",
              "    <tr>\n",
              "      <th>9</th>\n",
              "      <td>False</td>\n",
              "      <td>/hiKmpZMGZsrkA3cdce8a7Dpos1j.jpg</td>\n",
              "      <td>[35, 53, 18]</td>\n",
              "      <td>496243</td>\n",
              "      <td>ko</td>\n",
              "      <td>기생충</td>\n",
              "      <td>All unemployed, Ki-taek's family takes peculia...</td>\n",
              "      <td>26.5197</td>\n",
              "      <td>/7IiTTgloJzvGI1TAYymCfbfl3vT.jpg</td>\n",
              "      <td>2019-05-30</td>\n",
              "      <td>Parasite</td>\n",
              "      <td>False</td>\n",
              "      <td>8.499</td>\n",
              "      <td>19073</td>\n",
              "    </tr>\n",
              "  </tbody>\n",
              "</table>\n",
              "</div>\n",
              "    <div class=\"colab-df-buttons\">\n",
              "\n",
              "  <div class=\"colab-df-container\">\n",
              "    <button class=\"colab-df-convert\" onclick=\"convertToInteractive('df-d4df0b07-d1c1-4e1c-ba6c-648ec95f393f')\"\n",
              "            title=\"Convert this dataframe to an interactive table.\"\n",
              "            style=\"display:none;\">\n",
              "\n",
              "  <svg xmlns=\"http://www.w3.org/2000/svg\" height=\"24px\" viewBox=\"0 -960 960 960\">\n",
              "    <path d=\"M120-120v-720h720v720H120Zm60-500h600v-160H180v160Zm220 220h160v-160H400v160Zm0 220h160v-160H400v160ZM180-400h160v-160H180v160Zm440 0h160v-160H620v160ZM180-180h160v-160H180v160Zm440 0h160v-160H620v160Z\"/>\n",
              "  </svg>\n",
              "    </button>\n",
              "\n",
              "  <style>\n",
              "    .colab-df-container {\n",
              "      display:flex;\n",
              "      gap: 12px;\n",
              "    }\n",
              "\n",
              "    .colab-df-convert {\n",
              "      background-color: #E8F0FE;\n",
              "      border: none;\n",
              "      border-radius: 50%;\n",
              "      cursor: pointer;\n",
              "      display: none;\n",
              "      fill: #1967D2;\n",
              "      height: 32px;\n",
              "      padding: 0 0 0 0;\n",
              "      width: 32px;\n",
              "    }\n",
              "\n",
              "    .colab-df-convert:hover {\n",
              "      background-color: #E2EBFA;\n",
              "      box-shadow: 0px 1px 2px rgba(60, 64, 67, 0.3), 0px 1px 3px 1px rgba(60, 64, 67, 0.15);\n",
              "      fill: #174EA6;\n",
              "    }\n",
              "\n",
              "    .colab-df-buttons div {\n",
              "      margin-bottom: 4px;\n",
              "    }\n",
              "\n",
              "    [theme=dark] .colab-df-convert {\n",
              "      background-color: #3B4455;\n",
              "      fill: #D2E3FC;\n",
              "    }\n",
              "\n",
              "    [theme=dark] .colab-df-convert:hover {\n",
              "      background-color: #434B5C;\n",
              "      box-shadow: 0px 1px 3px 1px rgba(0, 0, 0, 0.15);\n",
              "      filter: drop-shadow(0px 1px 2px rgba(0, 0, 0, 0.3));\n",
              "      fill: #FFFFFF;\n",
              "    }\n",
              "  </style>\n",
              "\n",
              "    <script>\n",
              "      const buttonEl =\n",
              "        document.querySelector('#df-d4df0b07-d1c1-4e1c-ba6c-648ec95f393f button.colab-df-convert');\n",
              "      buttonEl.style.display =\n",
              "        google.colab.kernel.accessAllowed ? 'block' : 'none';\n",
              "\n",
              "      async function convertToInteractive(key) {\n",
              "        const element = document.querySelector('#df-d4df0b07-d1c1-4e1c-ba6c-648ec95f393f');\n",
              "        const dataTable =\n",
              "          await google.colab.kernel.invokeFunction('convertToInteractive',\n",
              "                                                    [key], {});\n",
              "        if (!dataTable) return;\n",
              "\n",
              "        const docLinkHtml = 'Like what you see? Visit the ' +\n",
              "          '<a target=\"_blank\" href=https://colab.research.google.com/notebooks/data_table.ipynb>data table notebook</a>'\n",
              "          + ' to learn more about interactive tables.';\n",
              "        element.innerHTML = '';\n",
              "        dataTable['output_type'] = 'display_data';\n",
              "        await google.colab.output.renderOutput(dataTable, element);\n",
              "        const docLink = document.createElement('div');\n",
              "        docLink.innerHTML = docLinkHtml;\n",
              "        element.appendChild(docLink);\n",
              "      }\n",
              "    </script>\n",
              "  </div>\n",
              "\n",
              "\n",
              "    <div id=\"df-83057adc-0b03-48b8-8397-9dab37f06efb\">\n",
              "      <button class=\"colab-df-quickchart\" onclick=\"quickchart('df-83057adc-0b03-48b8-8397-9dab37f06efb')\"\n",
              "                title=\"Suggest charts\"\n",
              "                style=\"display:none;\">\n",
              "\n",
              "<svg xmlns=\"http://www.w3.org/2000/svg\" height=\"24px\"viewBox=\"0 0 24 24\"\n",
              "     width=\"24px\">\n",
              "    <g>\n",
              "        <path d=\"M19 3H5c-1.1 0-2 .9-2 2v14c0 1.1.9 2 2 2h14c1.1 0 2-.9 2-2V5c0-1.1-.9-2-2-2zM9 17H7v-7h2v7zm4 0h-2V7h2v10zm4 0h-2v-4h2v4z\"/>\n",
              "    </g>\n",
              "</svg>\n",
              "      </button>\n",
              "\n",
              "<style>\n",
              "  .colab-df-quickchart {\n",
              "      --bg-color: #E8F0FE;\n",
              "      --fill-color: #1967D2;\n",
              "      --hover-bg-color: #E2EBFA;\n",
              "      --hover-fill-color: #174EA6;\n",
              "      --disabled-fill-color: #AAA;\n",
              "      --disabled-bg-color: #DDD;\n",
              "  }\n",
              "\n",
              "  [theme=dark] .colab-df-quickchart {\n",
              "      --bg-color: #3B4455;\n",
              "      --fill-color: #D2E3FC;\n",
              "      --hover-bg-color: #434B5C;\n",
              "      --hover-fill-color: #FFFFFF;\n",
              "      --disabled-bg-color: #3B4455;\n",
              "      --disabled-fill-color: #666;\n",
              "  }\n",
              "\n",
              "  .colab-df-quickchart {\n",
              "    background-color: var(--bg-color);\n",
              "    border: none;\n",
              "    border-radius: 50%;\n",
              "    cursor: pointer;\n",
              "    display: none;\n",
              "    fill: var(--fill-color);\n",
              "    height: 32px;\n",
              "    padding: 0;\n",
              "    width: 32px;\n",
              "  }\n",
              "\n",
              "  .colab-df-quickchart:hover {\n",
              "    background-color: var(--hover-bg-color);\n",
              "    box-shadow: 0 1px 2px rgba(60, 64, 67, 0.3), 0 1px 3px 1px rgba(60, 64, 67, 0.15);\n",
              "    fill: var(--button-hover-fill-color);\n",
              "  }\n",
              "\n",
              "  .colab-df-quickchart-complete:disabled,\n",
              "  .colab-df-quickchart-complete:disabled:hover {\n",
              "    background-color: var(--disabled-bg-color);\n",
              "    fill: var(--disabled-fill-color);\n",
              "    box-shadow: none;\n",
              "  }\n",
              "\n",
              "  .colab-df-spinner {\n",
              "    border: 2px solid var(--fill-color);\n",
              "    border-color: transparent;\n",
              "    border-bottom-color: var(--fill-color);\n",
              "    animation:\n",
              "      spin 1s steps(1) infinite;\n",
              "  }\n",
              "\n",
              "  @keyframes spin {\n",
              "    0% {\n",
              "      border-color: transparent;\n",
              "      border-bottom-color: var(--fill-color);\n",
              "      border-left-color: var(--fill-color);\n",
              "    }\n",
              "    20% {\n",
              "      border-color: transparent;\n",
              "      border-left-color: var(--fill-color);\n",
              "      border-top-color: var(--fill-color);\n",
              "    }\n",
              "    30% {\n",
              "      border-color: transparent;\n",
              "      border-left-color: var(--fill-color);\n",
              "      border-top-color: var(--fill-color);\n",
              "      border-right-color: var(--fill-color);\n",
              "    }\n",
              "    40% {\n",
              "      border-color: transparent;\n",
              "      border-right-color: var(--fill-color);\n",
              "      border-top-color: var(--fill-color);\n",
              "    }\n",
              "    60% {\n",
              "      border-color: transparent;\n",
              "      border-right-color: var(--fill-color);\n",
              "    }\n",
              "    80% {\n",
              "      border-color: transparent;\n",
              "      border-right-color: var(--fill-color);\n",
              "      border-bottom-color: var(--fill-color);\n",
              "    }\n",
              "    90% {\n",
              "      border-color: transparent;\n",
              "      border-bottom-color: var(--fill-color);\n",
              "    }\n",
              "  }\n",
              "</style>\n",
              "\n",
              "      <script>\n",
              "        async function quickchart(key) {\n",
              "          const quickchartButtonEl =\n",
              "            document.querySelector('#' + key + ' button');\n",
              "          quickchartButtonEl.disabled = true;  // To prevent multiple clicks.\n",
              "          quickchartButtonEl.classList.add('colab-df-spinner');\n",
              "          try {\n",
              "            const charts = await google.colab.kernel.invokeFunction(\n",
              "                'suggestCharts', [key], {});\n",
              "          } catch (error) {\n",
              "            console.error('Error during call to suggestCharts:', error);\n",
              "          }\n",
              "          quickchartButtonEl.classList.remove('colab-df-spinner');\n",
              "          quickchartButtonEl.classList.add('colab-df-quickchart-complete');\n",
              "        }\n",
              "        (() => {\n",
              "          let quickchartButtonEl =\n",
              "            document.querySelector('#df-83057adc-0b03-48b8-8397-9dab37f06efb button');\n",
              "          quickchartButtonEl.style.display =\n",
              "            google.colab.kernel.accessAllowed ? 'block' : 'none';\n",
              "        })();\n",
              "      </script>\n",
              "    </div>\n",
              "\n",
              "    </div>\n",
              "  </div>\n"
            ],
            "text/plain": [
              "   adult                     backdrop_path         genre_ids      id  \\\n",
              "0  False  /kXfqcdQKsToO0OUXHcrrNCHDBzO.jpg          [18, 80]     278   \n",
              "1  False  /tmU7GeKVybMWFButWEGl2M4GeiP.jpg          [18, 80]     238   \n",
              "2  False  /kGzFbGhp99zva6oZODW5atUtnqi.jpg          [18, 80]     240   \n",
              "3  False  /zb6fM1CX41D9rF9hdgclu0peUmy.jpg   [18, 36, 10752]     424   \n",
              "4  False  /bxgTSUenZDHNFerQ1whRKplrMKF.jpg              [18]     389   \n",
              "5  False  /m4TUa2ciEWSlk37rOsjiSIvZDXE.jpg   [16, 10751, 14]     129   \n",
              "6  False  /plDp52MirFHc2PMJRMNWoG0kfr3.jpg  [18, 28, 80, 53]     155   \n",
              "7  False  /90ez6ArvpO8bvpyIngBuwXOqJm5.jpg   [35, 18, 10749]   19404   \n",
              "8  False  /amZavErrjrdgDwhsIdpWxHNenIx.jpg      [14, 18, 80]     497   \n",
              "9  False  /hiKmpZMGZsrkA3cdce8a7Dpos1j.jpg      [35, 53, 18]  496243   \n",
              "\n",
              "  original_language                original_title  \\\n",
              "0                en      The Shawshank Redemption   \n",
              "1                en                 The Godfather   \n",
              "2                en         The Godfather Part II   \n",
              "3                en              Schindler's List   \n",
              "4                en                  12 Angry Men   \n",
              "5                ja                      千と千尋の神隠し   \n",
              "6                en               The Dark Knight   \n",
              "7                hi  दिलवाले दुल्हनिया ले जायेंगे   \n",
              "8                en                The Green Mile   \n",
              "9                ko                           기생충   \n",
              "\n",
              "                                            overview  popularity  \\\n",
              "0  Imprisoned in the 1940s for the double murder ...     35.0837   \n",
              "1  Spanning the years 1945 to 1955, a chronicle o...     34.2345   \n",
              "2  In the continuing saga of the Corleone crime f...     17.3255   \n",
              "3  The true story of how businessman Oskar Schind...     19.4471   \n",
              "4  The defense and the prosecution have rested an...     15.5418   \n",
              "5  A young girl, Chihiro, becomes trapped in a st...     22.2901   \n",
              "6  Batman raises the stakes in his war on crime. ...     29.6650   \n",
              "7  Raj is a rich, carefree, happy-go-lucky second...      8.0436   \n",
              "8  A supernatural tale set on death row in a Sout...     16.6755   \n",
              "9  All unemployed, Ki-taek's family takes peculia...     26.5197   \n",
              "\n",
              "                        poster_path release_date                        title  \\\n",
              "0  /9cqNxx0GxF0bflZmeSMuL5tnGzr.jpg   1994-09-23     The Shawshank Redemption   \n",
              "1  /3bhkrj58Vtu7enYsRolD1fZdja1.jpg   1972-03-14                The Godfather   \n",
              "2  /hek3koDUyRQk7FIhPXsa6mT2Zc3.jpg   1974-12-20        The Godfather Part II   \n",
              "3  /sF1U4EUQS8YHUYjNl3pMGNIQyr0.jpg   1993-12-15             Schindler's List   \n",
              "4  /ow3wq89wM8qd5X7hWKxiRfsFf9C.jpg   1957-04-10                 12 Angry Men   \n",
              "5  /39wmItIWsg5sZMyRUHLkWBcuVCM.jpg   2001-07-20                Spirited Away   \n",
              "6  /qJ2tW6WMUDux911r6m7haRef0WH.jpg   2008-07-16              The Dark Knight   \n",
              "7  /rfcy6Gd3PbFIqwZX5U8xnbv7jOc.jpg   1995-10-20  Dilwale Dulhania Le Jayenge   \n",
              "8  /8VG8fDNiy50H4FedGwdSVUPoaJe.jpg   1999-12-10               The Green Mile   \n",
              "9  /7IiTTgloJzvGI1TAYymCfbfl3vT.jpg   2019-05-30                     Parasite   \n",
              "\n",
              "   video  vote_average  vote_count  \n",
              "0  False         8.710       28334  \n",
              "1  False         8.686       21466  \n",
              "2  False         8.570       12969  \n",
              "3  False         8.565       16446  \n",
              "4  False         8.548        9138  \n",
              "5  False         8.537       17154  \n",
              "6  False         8.520       33874  \n",
              "7  False         8.516        4486  \n",
              "8  False         8.505       18106  \n",
              "9  False         8.499       19073  "
            ]
          },
          "execution_count": 7,
          "metadata": {},
          "output_type": "execute_result"
        }
      ],
      "source": [
        "pd.DataFrame(response.json()['results']).head(10)"
      ]
    },
    {
      "cell_type": "code",
      "execution_count": null,
      "metadata": {
        "id": "VX4QkcIQCUzv"
      },
      "outputs": [],
      "source": [
        "df = pd.DataFrame(response.json()['results']).head(10)[['id','title','overview', 'release_date', 'popularity']]"
      ]
    },
    {
      "cell_type": "code",
      "execution_count": null,
      "metadata": {
        "colab": {
          "base_uri": "https://localhost:8080/",
          "height": 206
        },
        "id": "23hWoc6eCwoZ",
        "outputId": "c64acf16-01b0-4ecc-8fa0-18af96fa46e5"
      },
      "outputs": [
        {
          "data": {
            "application/vnd.google.colaboratory.intrinsic+json": {
              "summary": "{\n  \"name\": \"df\",\n  \"rows\": 10,\n  \"fields\": [\n    {\n      \"column\": \"id\",\n      \"properties\": {\n        \"dtype\": \"number\",\n        \"std\": 156276,\n        \"min\": 129,\n        \"max\": 496243,\n        \"num_unique_values\": 10,\n        \"samples\": [\n          497,\n          238,\n          129\n        ],\n        \"semantic_type\": \"\",\n        \"description\": \"\"\n      }\n    },\n    {\n      \"column\": \"title\",\n      \"properties\": {\n        \"dtype\": \"string\",\n        \"num_unique_values\": 10,\n        \"samples\": [\n          \"The Green Mile\",\n          \"The Godfather\",\n          \"Spirited Away\"\n        ],\n        \"semantic_type\": \"\",\n        \"description\": \"\"\n      }\n    },\n    {\n      \"column\": \"overview\",\n      \"properties\": {\n        \"dtype\": \"string\",\n        \"num_unique_values\": 10,\n        \"samples\": [\n          \"A supernatural tale set on death row in a Southern prison, where gentle giant John Coffey possesses the mysterious power to heal people's ailments. When the cell block's head guard, Paul Edgecomb, recognizes Coffey's miraculous gift, he tries desperately to help stave off the condemned man's execution.\",\n          \"Spanning the years 1945 to 1955, a chronicle of the fictional Italian-American Corleone crime family. When organized crime family patriarch, Vito Corleone barely survives an attempt on his life, his youngest son, Michael steps in to take care of the would-be killers, launching a campaign of bloody revenge.\",\n          \"A young girl, Chihiro, becomes trapped in a strange new world of spirits. When her parents undergo a mysterious transformation, she must call upon the courage she never knew she had to free her family.\"\n        ],\n        \"semantic_type\": \"\",\n        \"description\": \"\"\n      }\n    },\n    {\n      \"column\": \"release_date\",\n      \"properties\": {\n        \"dtype\": \"object\",\n        \"num_unique_values\": 10,\n        \"samples\": [\n          \"1999-12-10\",\n          \"1972-03-14\",\n          \"2001-07-20\"\n        ],\n        \"semantic_type\": \"\",\n        \"description\": \"\"\n      }\n    },\n    {\n      \"column\": \"popularity\",\n      \"properties\": {\n        \"dtype\": \"number\",\n        \"std\": 8.762348454387734,\n        \"min\": 8.0436,\n        \"max\": 35.0837,\n        \"num_unique_values\": 10,\n        \"samples\": [\n          16.6755,\n          34.2345,\n          22.2901\n        ],\n        \"semantic_type\": \"\",\n        \"description\": \"\"\n      }\n    }\n  ]\n}",
              "type": "dataframe",
              "variable_name": "df"
            },
            "text/html": [
              "\n",
              "  <div id=\"df-2e4453b1-65ce-4ce0-96d9-001ceb4d4f1b\" class=\"colab-df-container\">\n",
              "    <div>\n",
              "<style scoped>\n",
              "    .dataframe tbody tr th:only-of-type {\n",
              "        vertical-align: middle;\n",
              "    }\n",
              "\n",
              "    .dataframe tbody tr th {\n",
              "        vertical-align: top;\n",
              "    }\n",
              "\n",
              "    .dataframe thead th {\n",
              "        text-align: right;\n",
              "    }\n",
              "</style>\n",
              "<table border=\"1\" class=\"dataframe\">\n",
              "  <thead>\n",
              "    <tr style=\"text-align: right;\">\n",
              "      <th></th>\n",
              "      <th>id</th>\n",
              "      <th>title</th>\n",
              "      <th>overview</th>\n",
              "      <th>release_date</th>\n",
              "      <th>popularity</th>\n",
              "    </tr>\n",
              "  </thead>\n",
              "  <tbody>\n",
              "    <tr>\n",
              "      <th>0</th>\n",
              "      <td>278</td>\n",
              "      <td>The Shawshank Redemption</td>\n",
              "      <td>Imprisoned in the 1940s for the double murder ...</td>\n",
              "      <td>1994-09-23</td>\n",
              "      <td>35.0837</td>\n",
              "    </tr>\n",
              "    <tr>\n",
              "      <th>1</th>\n",
              "      <td>238</td>\n",
              "      <td>The Godfather</td>\n",
              "      <td>Spanning the years 1945 to 1955, a chronicle o...</td>\n",
              "      <td>1972-03-14</td>\n",
              "      <td>34.2345</td>\n",
              "    </tr>\n",
              "    <tr>\n",
              "      <th>2</th>\n",
              "      <td>240</td>\n",
              "      <td>The Godfather Part II</td>\n",
              "      <td>In the continuing saga of the Corleone crime f...</td>\n",
              "      <td>1974-12-20</td>\n",
              "      <td>17.3255</td>\n",
              "    </tr>\n",
              "    <tr>\n",
              "      <th>3</th>\n",
              "      <td>424</td>\n",
              "      <td>Schindler's List</td>\n",
              "      <td>The true story of how businessman Oskar Schind...</td>\n",
              "      <td>1993-12-15</td>\n",
              "      <td>19.4471</td>\n",
              "    </tr>\n",
              "    <tr>\n",
              "      <th>4</th>\n",
              "      <td>389</td>\n",
              "      <td>12 Angry Men</td>\n",
              "      <td>The defense and the prosecution have rested an...</td>\n",
              "      <td>1957-04-10</td>\n",
              "      <td>15.5418</td>\n",
              "    </tr>\n",
              "  </tbody>\n",
              "</table>\n",
              "</div>\n",
              "    <div class=\"colab-df-buttons\">\n",
              "\n",
              "  <div class=\"colab-df-container\">\n",
              "    <button class=\"colab-df-convert\" onclick=\"convertToInteractive('df-2e4453b1-65ce-4ce0-96d9-001ceb4d4f1b')\"\n",
              "            title=\"Convert this dataframe to an interactive table.\"\n",
              "            style=\"display:none;\">\n",
              "\n",
              "  <svg xmlns=\"http://www.w3.org/2000/svg\" height=\"24px\" viewBox=\"0 -960 960 960\">\n",
              "    <path d=\"M120-120v-720h720v720H120Zm60-500h600v-160H180v160Zm220 220h160v-160H400v160Zm0 220h160v-160H400v160ZM180-400h160v-160H180v160Zm440 0h160v-160H620v160ZM180-180h160v-160H180v160Zm440 0h160v-160H620v160Z\"/>\n",
              "  </svg>\n",
              "    </button>\n",
              "\n",
              "  <style>\n",
              "    .colab-df-container {\n",
              "      display:flex;\n",
              "      gap: 12px;\n",
              "    }\n",
              "\n",
              "    .colab-df-convert {\n",
              "      background-color: #E8F0FE;\n",
              "      border: none;\n",
              "      border-radius: 50%;\n",
              "      cursor: pointer;\n",
              "      display: none;\n",
              "      fill: #1967D2;\n",
              "      height: 32px;\n",
              "      padding: 0 0 0 0;\n",
              "      width: 32px;\n",
              "    }\n",
              "\n",
              "    .colab-df-convert:hover {\n",
              "      background-color: #E2EBFA;\n",
              "      box-shadow: 0px 1px 2px rgba(60, 64, 67, 0.3), 0px 1px 3px 1px rgba(60, 64, 67, 0.15);\n",
              "      fill: #174EA6;\n",
              "    }\n",
              "\n",
              "    .colab-df-buttons div {\n",
              "      margin-bottom: 4px;\n",
              "    }\n",
              "\n",
              "    [theme=dark] .colab-df-convert {\n",
              "      background-color: #3B4455;\n",
              "      fill: #D2E3FC;\n",
              "    }\n",
              "\n",
              "    [theme=dark] .colab-df-convert:hover {\n",
              "      background-color: #434B5C;\n",
              "      box-shadow: 0px 1px 3px 1px rgba(0, 0, 0, 0.15);\n",
              "      filter: drop-shadow(0px 1px 2px rgba(0, 0, 0, 0.3));\n",
              "      fill: #FFFFFF;\n",
              "    }\n",
              "  </style>\n",
              "\n",
              "    <script>\n",
              "      const buttonEl =\n",
              "        document.querySelector('#df-2e4453b1-65ce-4ce0-96d9-001ceb4d4f1b button.colab-df-convert');\n",
              "      buttonEl.style.display =\n",
              "        google.colab.kernel.accessAllowed ? 'block' : 'none';\n",
              "\n",
              "      async function convertToInteractive(key) {\n",
              "        const element = document.querySelector('#df-2e4453b1-65ce-4ce0-96d9-001ceb4d4f1b');\n",
              "        const dataTable =\n",
              "          await google.colab.kernel.invokeFunction('convertToInteractive',\n",
              "                                                    [key], {});\n",
              "        if (!dataTable) return;\n",
              "\n",
              "        const docLinkHtml = 'Like what you see? Visit the ' +\n",
              "          '<a target=\"_blank\" href=https://colab.research.google.com/notebooks/data_table.ipynb>data table notebook</a>'\n",
              "          + ' to learn more about interactive tables.';\n",
              "        element.innerHTML = '';\n",
              "        dataTable['output_type'] = 'display_data';\n",
              "        await google.colab.output.renderOutput(dataTable, element);\n",
              "        const docLink = document.createElement('div');\n",
              "        docLink.innerHTML = docLinkHtml;\n",
              "        element.appendChild(docLink);\n",
              "      }\n",
              "    </script>\n",
              "  </div>\n",
              "\n",
              "\n",
              "    <div id=\"df-356b9ce7-9a98-41e1-bcd2-787ffd95e29a\">\n",
              "      <button class=\"colab-df-quickchart\" onclick=\"quickchart('df-356b9ce7-9a98-41e1-bcd2-787ffd95e29a')\"\n",
              "                title=\"Suggest charts\"\n",
              "                style=\"display:none;\">\n",
              "\n",
              "<svg xmlns=\"http://www.w3.org/2000/svg\" height=\"24px\"viewBox=\"0 0 24 24\"\n",
              "     width=\"24px\">\n",
              "    <g>\n",
              "        <path d=\"M19 3H5c-1.1 0-2 .9-2 2v14c0 1.1.9 2 2 2h14c1.1 0 2-.9 2-2V5c0-1.1-.9-2-2-2zM9 17H7v-7h2v7zm4 0h-2V7h2v10zm4 0h-2v-4h2v4z\"/>\n",
              "    </g>\n",
              "</svg>\n",
              "      </button>\n",
              "\n",
              "<style>\n",
              "  .colab-df-quickchart {\n",
              "      --bg-color: #E8F0FE;\n",
              "      --fill-color: #1967D2;\n",
              "      --hover-bg-color: #E2EBFA;\n",
              "      --hover-fill-color: #174EA6;\n",
              "      --disabled-fill-color: #AAA;\n",
              "      --disabled-bg-color: #DDD;\n",
              "  }\n",
              "\n",
              "  [theme=dark] .colab-df-quickchart {\n",
              "      --bg-color: #3B4455;\n",
              "      --fill-color: #D2E3FC;\n",
              "      --hover-bg-color: #434B5C;\n",
              "      --hover-fill-color: #FFFFFF;\n",
              "      --disabled-bg-color: #3B4455;\n",
              "      --disabled-fill-color: #666;\n",
              "  }\n",
              "\n",
              "  .colab-df-quickchart {\n",
              "    background-color: var(--bg-color);\n",
              "    border: none;\n",
              "    border-radius: 50%;\n",
              "    cursor: pointer;\n",
              "    display: none;\n",
              "    fill: var(--fill-color);\n",
              "    height: 32px;\n",
              "    padding: 0;\n",
              "    width: 32px;\n",
              "  }\n",
              "\n",
              "  .colab-df-quickchart:hover {\n",
              "    background-color: var(--hover-bg-color);\n",
              "    box-shadow: 0 1px 2px rgba(60, 64, 67, 0.3), 0 1px 3px 1px rgba(60, 64, 67, 0.15);\n",
              "    fill: var(--button-hover-fill-color);\n",
              "  }\n",
              "\n",
              "  .colab-df-quickchart-complete:disabled,\n",
              "  .colab-df-quickchart-complete:disabled:hover {\n",
              "    background-color: var(--disabled-bg-color);\n",
              "    fill: var(--disabled-fill-color);\n",
              "    box-shadow: none;\n",
              "  }\n",
              "\n",
              "  .colab-df-spinner {\n",
              "    border: 2px solid var(--fill-color);\n",
              "    border-color: transparent;\n",
              "    border-bottom-color: var(--fill-color);\n",
              "    animation:\n",
              "      spin 1s steps(1) infinite;\n",
              "  }\n",
              "\n",
              "  @keyframes spin {\n",
              "    0% {\n",
              "      border-color: transparent;\n",
              "      border-bottom-color: var(--fill-color);\n",
              "      border-left-color: var(--fill-color);\n",
              "    }\n",
              "    20% {\n",
              "      border-color: transparent;\n",
              "      border-left-color: var(--fill-color);\n",
              "      border-top-color: var(--fill-color);\n",
              "    }\n",
              "    30% {\n",
              "      border-color: transparent;\n",
              "      border-left-color: var(--fill-color);\n",
              "      border-top-color: var(--fill-color);\n",
              "      border-right-color: var(--fill-color);\n",
              "    }\n",
              "    40% {\n",
              "      border-color: transparent;\n",
              "      border-right-color: var(--fill-color);\n",
              "      border-top-color: var(--fill-color);\n",
              "    }\n",
              "    60% {\n",
              "      border-color: transparent;\n",
              "      border-right-color: var(--fill-color);\n",
              "    }\n",
              "    80% {\n",
              "      border-color: transparent;\n",
              "      border-right-color: var(--fill-color);\n",
              "      border-bottom-color: var(--fill-color);\n",
              "    }\n",
              "    90% {\n",
              "      border-color: transparent;\n",
              "      border-bottom-color: var(--fill-color);\n",
              "    }\n",
              "  }\n",
              "</style>\n",
              "\n",
              "      <script>\n",
              "        async function quickchart(key) {\n",
              "          const quickchartButtonEl =\n",
              "            document.querySelector('#' + key + ' button');\n",
              "          quickchartButtonEl.disabled = true;  // To prevent multiple clicks.\n",
              "          quickchartButtonEl.classList.add('colab-df-spinner');\n",
              "          try {\n",
              "            const charts = await google.colab.kernel.invokeFunction(\n",
              "                'suggestCharts', [key], {});\n",
              "          } catch (error) {\n",
              "            console.error('Error during call to suggestCharts:', error);\n",
              "          }\n",
              "          quickchartButtonEl.classList.remove('colab-df-spinner');\n",
              "          quickchartButtonEl.classList.add('colab-df-quickchart-complete');\n",
              "        }\n",
              "        (() => {\n",
              "          let quickchartButtonEl =\n",
              "            document.querySelector('#df-356b9ce7-9a98-41e1-bcd2-787ffd95e29a button');\n",
              "          quickchartButtonEl.style.display =\n",
              "            google.colab.kernel.accessAllowed ? 'block' : 'none';\n",
              "        })();\n",
              "      </script>\n",
              "    </div>\n",
              "\n",
              "    </div>\n",
              "  </div>\n"
            ],
            "text/plain": [
              "    id                     title  \\\n",
              "0  278  The Shawshank Redemption   \n",
              "1  238             The Godfather   \n",
              "2  240     The Godfather Part II   \n",
              "3  424          Schindler's List   \n",
              "4  389              12 Angry Men   \n",
              "\n",
              "                                            overview release_date  popularity  \n",
              "0  Imprisoned in the 1940s for the double murder ...   1994-09-23     35.0837  \n",
              "1  Spanning the years 1945 to 1955, a chronicle o...   1972-03-14     34.2345  \n",
              "2  In the continuing saga of the Corleone crime f...   1974-12-20     17.3255  \n",
              "3  The true story of how businessman Oskar Schind...   1993-12-15     19.4471  \n",
              "4  The defense and the prosecution have rested an...   1957-04-10     15.5418  "
            ]
          },
          "execution_count": 10,
          "metadata": {},
          "output_type": "execute_result"
        }
      ],
      "source": [
        "df.head()"
      ]
    },
    {
      "cell_type": "code",
      "execution_count": null,
      "metadata": {
        "id": "XWuEzFSQDCqM"
      },
      "outputs": [],
      "source": [
        "import requests\n",
        "import pandas as pd\n",
        "\n",
        "df_list = []\n",
        "\n",
        "for i in range(1, 429):\n",
        "    response = requests.get(\n",
        "        'https://api.themoviedb.org/3/movie/top_rated?api_key=08f5259a7b43d7d3bf08a261a0f38dd1&language=en-US&page={}'.format(i)\n",
        "    )\n",
        "    temp_df = pd.DataFrame(response.json()['results']).head(10)[['id', 'title', 'overview', 'release_date', 'popularity']]\n",
        "    df_list.append(temp_df)\n",
        "\n",
        "# Combine all temporary DataFrames at once\n",
        "df = pd.concat(df_list, ignore_index=True)\n"
      ]
    },
    {
      "cell_type": "code",
      "execution_count": null,
      "metadata": {
        "colab": {
          "base_uri": "https://localhost:8080/"
        },
        "id": "awSpLx4LDzoY",
        "outputId": "ba5cadae-3cc2-4a18-b7d2-ce9631809e71"
      },
      "outputs": [
        {
          "name": "stdout",
          "output_type": "stream",
          "text": [
            "          id                     title  \\\n",
            "0        278  The Shawshank Redemption   \n",
            "1        238             The Godfather   \n",
            "2        240     The Godfather Part II   \n",
            "3        424          Schindler's List   \n",
            "4        389              12 Angry Men   \n",
            "...      ...                       ...   \n",
            "4275   23172         The Spy Next Door   \n",
            "4276   15379         Missing in Action   \n",
            "4277  429460                      Muse   \n",
            "4278  333674                 Intruders   \n",
            "4279   12596               Pushing Tin   \n",
            "\n",
            "                                               overview release_date  \\\n",
            "0     Imprisoned in the 1940s for the double murder ...   1994-09-23   \n",
            "1     Spanning the years 1945 to 1955, a chronicle o...   1972-03-14   \n",
            "2     In the continuing saga of the Corleone crime f...   1974-12-20   \n",
            "3     The true story of how businessman Oskar Schind...   1993-12-15   \n",
            "4     The defense and the prosecution have rested an...   1957-04-10   \n",
            "...                                                 ...          ...   \n",
            "4275  Former CIA spy Bob Ho takes on his toughest as...   2010-01-15   \n",
            "4276  American servicemen are still being held capti...   1984-11-16   \n",
            "4277  Samuel Salomon, a literature professor, has be...   2017-11-09   \n",
            "4278  Anna suffers from agoraphobia so crippling tha...   2015-06-12   \n",
            "4279  Two air traffic controllers who thrive on livi...   1999-04-23   \n",
            "\n",
            "      popularity  \n",
            "0        35.0837  \n",
            "1        34.2345  \n",
            "2        17.3255  \n",
            "3        19.4471  \n",
            "4        15.5418  \n",
            "...          ...  \n",
            "4275      3.1707  \n",
            "4276      2.7264  \n",
            "4277      0.8438  \n",
            "4278      1.8744  \n",
            "4279      1.4733  \n",
            "\n",
            "[4280 rows x 5 columns]\n"
          ]
        }
      ],
      "source": [
        "print(df)\n"
      ]
    },
    {
      "cell_type": "code",
      "execution_count": null,
      "metadata": {
        "colab": {
          "base_uri": "https://localhost:8080/"
        },
        "id": "ijRE0f2RFQcA",
        "outputId": "a693a2f4-a3d1-4038-8017-79d747f8197d"
      },
      "outputs": [
        {
          "data": {
            "text/plain": [
              "(4280, 5)"
            ]
          },
          "execution_count": 19,
          "metadata": {},
          "output_type": "execute_result"
        }
      ],
      "source": [
        "df.shape"
      ]
    },
    {
      "cell_type": "code",
      "execution_count": null,
      "metadata": {
        "id": "cp3mxuYcFWg2"
      },
      "outputs": [],
      "source": [
        "df.to_csv('movies.csv')"
      ]
    },
    {
      "cell_type": "markdown",
      "metadata": {
        "id": "qh0Sj6qSKbYS"
      },
      "source": [
        "rapidapi can be used to get various apis."
      ]
    },
    {
      "cell_type": "markdown",
      "metadata": {
        "id": "GP0t8mw1YjUN"
      },
      "source": [
        "# By Web scraping"
      ]
    },
    {
      "cell_type": "markdown",
      "metadata": {
        "id": "0zK6i36TY089"
      },
      "source": [
        "I'm doing from amibition box"
      ]
    },
    {
      "cell_type": "code",
      "execution_count": null,
      "metadata": {
        "id": "XetJ0vnVYqBM"
      },
      "outputs": [],
      "source": [
        "from bs4 import BeautifulSoup  #library used for web scraping\n",
        "import requests\n"
      ]
    },
    {
      "cell_type": "code",
      "execution_count": null,
      "metadata": {
        "id": "wu--jtRdaOnG"
      },
      "outputs": [],
      "source": [
        "headers = {'User-Agent': 'Mozilla/5.0 (Windows NT 10.0; Win64; x64) AppleWebKit/537.36 (KHTML, like Gecko) Chrome/122.0.0.0 Safari/537.36'}\n"
      ]
    },
    {
      "cell_type": "code",
      "execution_count": null,
      "metadata": {
        "colab": {
          "base_uri": "https://localhost:8080/"
        },
        "id": "Yds7N6OnZbV3",
        "outputId": "fb2be524-58bf-4684-f754-fccd4d401c08"
      },
      "outputs": [
        {
          "data": {
            "text/plain": [
              "<Response [403]>"
            ]
          },
          "execution_count": 6,
          "metadata": {},
          "output_type": "execute_result"
        }
      ],
      "source": [
        "requests.get('https://www.ambitionbox.com/list-of-companies?page=1') #this is like hitting the sever as a bot not from browser"
      ]
    },
    {
      "cell_type": "code",
      "execution_count": null,
      "metadata": {
        "colab": {
          "base_uri": "https://localhost:8080/",
          "height": 73
        },
        "id": "VaIucciHZhcN",
        "outputId": "216bfe97-4611-49fc-a2a4-4a92ff787486"
      },
      "outputs": [
        {
          "data": {
            "application/vnd.google.colaboratory.intrinsic+json": {
              "type": "string"
            },
            "text/plain": [
              "'<HTML><HEAD>\\n<TITLE>Access Denied</TITLE>\\n</HEAD><BODY>\\n<H1>Access Denied</H1>\\n \\nYou don\\'t have permission to access \"http&#58;&#47;&#47;www&#46;ambitionbox&#46;com&#47;list&#45;of&#45;companies&#63;\" on this server.<P>\\nReference&#32;&#35;18&#46;f71ca17&#46;1748612074&#46;4e1b2e03\\n<P>https&#58;&#47;&#47;errors&#46;edgesuite&#46;net&#47;18&#46;f71ca17&#46;1748612074&#46;4e1b2e03</P>\\n</BODY>\\n</HTML>\\n'"
            ]
          },
          "execution_count": 7,
          "metadata": {},
          "output_type": "execute_result"
        }
      ],
      "source": [
        "requests.get('https://www.ambitionbox.com/list-of-companies?page=1').text"
      ]
    },
    {
      "cell_type": "markdown",
      "source": [
        "Doing like the request is hit by search engine"
      ],
      "metadata": {
        "id": "EVFlQFqXmITX"
      }
    },
    {
      "cell_type": "code",
      "execution_count": null,
      "metadata": {
        "id": "ZABpnJtsZsSC"
      },
      "outputs": [],
      "source": [
        "headers = {'User-Agent': 'Mozilla/5.0 (Windows NT 10.0; Win64; x64) AppleWebKit/537.36 (KHTML, like Gecko) Chrome/122.0.0.0 Safari/537.36', 'Accept': 'text/html,application/xhtml+xml,application/xml;q=0.9,*/*;q=0.8', 'Accept-Language': 'en-US,en;q=0.5', 'Referer': 'https://www.google.com/', 'Connection': 'keep-alive'}\n",
        "webpage = response = requests.get('https://www.ambitionbox.com/list-of-companies?page=1', headers=headers)\n",
        "print(response.status_code)\n",
        "print(response.text[:1000])\n"
      ]
    },
    {
      "cell_type": "code",
      "execution_count": null,
      "metadata": {
        "id": "sccR9JSNa8V2"
      },
      "outputs": [],
      "source": [
        "soup = BeautifulSoup (webpage,'lxml')"
      ]
    },
    {
      "cell_type": "code",
      "execution_count": null,
      "metadata": {
        "id": "qT70j6r9beY0"
      },
      "outputs": [],
      "source": [
        "print (soup.prettify())"
      ]
    },
    {
      "cell_type": "code",
      "execution_count": null,
      "metadata": {
        "id": "nQWB_7ijbpjY"
      },
      "outputs": [],
      "source": [
        "soup.find_all('h1')"
      ]
    },
    {
      "cell_type": "code",
      "source": [
        "soup.find_all('h1')[0].text #to get only text"
      ],
      "metadata": {
        "id": "FiXtwPLdnGqi"
      },
      "execution_count": null,
      "outputs": []
    },
    {
      "cell_type": "code",
      "source": [
        "soup.find_all('h2')"
      ],
      "metadata": {
        "id": "TCwaIZRsnTTy"
      },
      "execution_count": null,
      "outputs": []
    },
    {
      "cell_type": "code",
      "source": [
        "len (soup.find_all('h2'))"
      ],
      "metadata": {
        "id": "0fjc7w3VnjGx"
      },
      "execution_count": null,
      "outputs": []
    },
    {
      "cell_type": "code",
      "source": [
        "for i in soup.find_all('h2'):\n",
        "  print (i.text)"
      ],
      "metadata": {
        "id": "QhGDZdQBnldV"
      },
      "execution_count": null,
      "outputs": []
    },
    {
      "cell_type": "code",
      "source": [
        "for i in soup.find_all('h2'):\n",
        "  print (i.text.strip())"
      ],
      "metadata": {
        "id": "iYrBhr2Zn3nv"
      },
      "execution_count": null,
      "outputs": []
    },
    {
      "cell_type": "markdown",
      "source": [
        "Now then, do the similar to the webpage > inspect > and get the tag / div from the webpage which helps us to get the data ."
      ],
      "metadata": {
        "id": "uaoBDz44o7jk"
      }
    },
    {
      "cell_type": "code",
      "source": [],
      "metadata": {
        "id": "J7KxPsxTpHhE"
      },
      "execution_count": null,
      "outputs": []
    }
  ],
  "metadata": {
    "colab": {
      "provenance": []
    },
    "kernelspec": {
      "display_name": "Python 3",
      "name": "python3"
    },
    "language_info": {
      "name": "python"
    }
  },
  "nbformat": 4,
  "nbformat_minor": 0
}